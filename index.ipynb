{
 "cells": [
  {
   "cell_type": "markdown",
   "metadata": {},
   "source": [
    "# 2017年 生命統計学\n",
    "\n",
    "### Jupyter Notebook (IPython Notebook) とは\n",
    "* Python という名のプログラミング言語が使えるプログラミング環境。計算コードと計算結果を同じ場所に時系列で保存できるので、実験系における実験ノートのように、いつどんな処理を行って何を得たのか記録して再現するのに便利。\n",
    "* <a href=\"https://raw.githubusercontent.com/maskot1977/-/master/%E6%BC%94%E7%BF%92%E5%AE%A4.txt\" target=\"_blank\">当学の演習室での使い方</a>\n",
    "* <a href=\"http://www.task-notes.com/entry/20151129/1448794509\" target=\"_blank\">個人PCでのインストールと始め方</a>\n",
    "* <a href=\"https://raw.githubusercontent.com/maskot1977/-/master/%E5%B0%8F%E5%AF%BA%E7%A0%942017.pptx.png\" target=\"_blank\">小寺研究室</a> では、MacOSX上で右記のようにセットアップしています。 <a href=\"https://sites.google.com/site/masaakikotera/8-python/8-1-huan-jing-gou-zhu\" target=\"_blank\">環境設定</a>"
   ]
  },
  {
   "cell_type": "markdown",
   "metadata": {},
   "source": [
    "## ハンバーガー統計学 with Python\n",
    "* <a href=\"HamburgerStatistics01.ipynb\">第１章</a> 平均と分散（2017年9月26日講義、9月29日締切）"
   ]
  },
  {
   "cell_type": "code",
   "execution_count": null,
   "metadata": {
    "collapsed": true
   },
   "outputs": [],
   "source": []
  }
 ],
 "metadata": {
  "kernelspec": {
   "display_name": "Python 3",
   "language": "python",
   "name": "python3"
  },
  "language_info": {
   "codemirror_mode": {
    "name": "ipython",
    "version": 3
   },
   "file_extension": ".py",
   "mimetype": "text/x-python",
   "name": "python",
   "nbconvert_exporter": "python",
   "pygments_lexer": "ipython3",
   "version": "3.4.5"
  }
 },
 "nbformat": 4,
 "nbformat_minor": 2
}
