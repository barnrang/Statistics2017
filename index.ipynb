{
 "cells": [
  {
   "cell_type": "markdown",
   "metadata": {},
   "source": [
    "<h1 STYLE=\"background: #c2edff;padding: 0.5em;\">2017年 生命統計学</h1>\n",
    "\n",
    "<h4 style=\"border-bottom: solid 1px black;\">Jupyter Notebook (IPython Notebook) とは</h4>\n",
    "\n",
    "Python という名のプログラミング言語が使えるプログラミング環境。計算コードと計算結果を同じ場所に時系列で保存できるので、実験系における実験ノートのように、いつどんな処理を行って何を得たのか記録して再現するのに便利。\n",
    "* <a href=\"http://www.task-notes.com/entry/20151129/1448794509\" target=\"_blank\">個人PCでのインストールと始め方</a>\n",
    "* <a href=\"https://raw.githubusercontent.com/maskot1977/-/master/%E5%B0%8F%E5%AF%BA%E7%A0%942017.pptx.png\" target=\"_blank\">小寺研究室</a> では、MacOSX上で右記のようにセットアップしています。 <a href=\"https://sites.google.com/site/masaakikotera/8-python/8-1-huan-jing-gou-zhu\" target=\"_blank\">環境設定</a>"
   ]
  },
  {
   "cell_type": "markdown",
   "metadata": {},
   "source": [
    "<h4 style=\"border-bottom: solid 1px black;\">当学の演習室での使い方</h4>\n",
    "\n",
    "演習室の端末にはMacとWindoowsが入っていますが、Mac側にJupyterをインストールしています。\n",
    "\n",
    "<ol>\n",
    "<li>各自のユーザー名で Mac にログイン（Windowsではなく）\n",
    "<li>左下の「Finder」（四角い顔）をクリックして、新しいファインダのウインドウを開く。\n",
    "<li>ファインダのウインドウ内の左上の方に「よく使う項目：アプリケーション」があるので、そこをクリック。\n",
    "<li>「ユーティリティ」というフォルダがあるのでそこをダブルクリック。\n",
    "<li>「ターミナル」というアプリケーションがあるので、そこをダブルクリック。\n",
    "<li>ターミナルが開くので、以下のように入力して「return」キーを押す。\n",
    "\n",
    "　　/opt/local/Library/Frameworks/Python.framework/Versions/3.4/bin/jupyter notebook\n",
    "\n",
    "<li>これで Jupyter Notebook を使ったプログラミング環境が出来上がります。\n",
    "</ol>"
   ]
  },
  {
   "cell_type": "markdown",
   "metadata": {},
   "source": [
    "<h2 STYLE=\"background: #c2edff;padding: 0.5em;\">ハンバーガー統計学 with Python</h2>\n",
    "\n",
    "<h4 style=\"border-bottom: solid 1px black;\">第１回講義（2017年9月26日講義、9月29日課題提出締切）</h4>\n",
    "* <a href=\"HamburgerStatistics01.ipynb\">第１章</a> 平均と分散\n",
    "* <a href=\"HamburgerStatistics02.ipynb\">第２章</a> 信頼区間"
   ]
  },
  {
   "cell_type": "markdown",
   "metadata": {
    "collapsed": true
   },
   "source": [
    "<h4 style=\"border-bottom: solid 1px black;\">第２回講義（2017年9月29日講義、10月3日課題提出締切）</h4>\n",
    "* <a href=\"HamburgerStatistics03.ipynb\">第３章</a> カイ２乗検定\n",
    "* <a href=\"HamburgerStatistics04.ipynb\">第４章</a> t検定（対応なし）"
   ]
  },
  {
   "cell_type": "markdown",
   "metadata": {
    "collapsed": true
   },
   "source": [
    "<h4 style=\"border-bottom: solid 1px black;\">第３回講義（2017年10月3日講義、10月6日課題提出締切）</h4>\n",
    "* <a href=\"HamburgerStatistics05.ipynb\">第５章</a> t検定（対応あり）"
   ]
  },
  {
   "cell_type": "code",
   "execution_count": null,
   "metadata": {
    "collapsed": true
   },
   "outputs": [],
   "source": []
  }
 ],
 "metadata": {
  "kernelspec": {
   "display_name": "Python 3",
   "language": "python",
   "name": "python3"
  },
  "language_info": {
   "codemirror_mode": {
    "name": "ipython",
    "version": 3
   },
   "file_extension": ".py",
   "mimetype": "text/x-python",
   "name": "python",
   "nbconvert_exporter": "python",
   "pygments_lexer": "ipython3",
   "version": "3.4.5"
  }
 },
 "nbformat": 4,
 "nbformat_minor": 2
}
