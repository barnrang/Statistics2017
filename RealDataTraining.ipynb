{
 "cells": [
  {
   "cell_type": "markdown",
   "metadata": {},
   "source": [
    "# 実習用データ"
   ]
  },
  {
   "cell_type": "markdown",
   "metadata": {},
   "source": [
    "<h1 STYLE=\"background: #c2edff;padding: 0.5em;\">ワインの品質</h1>\n",
    "\n",
    "* 赤ワイン https://raw.githubusercontent.com/maskot1977/ipython_notebook/master/toydata/winequality-red.txt\n",
    "* 白ワイン https://raw.githubusercontent.com/maskot1977/ipython_notebook/master/toydata/winequality-white.txt\n",
    "\n",
    "<h4 style=\"border-bottom: solid 1px black;\">　<a href=\"http://archive.ics.uci.edu/ml/machine-learning-databases/wine-quality/winequality.names\">詳細</a></h4>\n",
    "\n",
    "<ol>\n",
    "<li>fixed acidity\n",
    "<li>volatile acidity\n",
    "<li>citric acid\n",
    "<li>residual sugar\n",
    "<li>chlorides\n",
    "<li>free sulfur dioxide\n",
    "<li>total sulfur dioxide\n",
    "<li>density\n",
    "<li>pH\n",
    "<li>sulphates\n",
    "<li>alcohol\n",
    "   Output variable (based on sensory data): \n",
    "<li>quality (score between 0 and 10)\n",
    "</ol>"
   ]
  },
  {
   "cell_type": "markdown",
   "metadata": {},
   "source": [
    "<h1 STYLE=\"background: #c2edff;padding: 0.5em;\">あやめのデータ</h1>\n",
    "\n",
    "* https://raw.githubusercontent.com/maskot1977/ipython_notebook/master/toydata/iris.txt\n",
    "\n",
    "<h4 style=\"border-bottom: solid 1px black;\">　詳細</h4>\n",
    "\n",
    "三種類のあやめの品種のそれぞれからの 50の花の、センチメートル単位の蕚(がく)片の長さと幅、花弁の長さと幅の計測結果を与える。 品種は Iris setosa, versicolor そして virginica である。\t\n",
    "<ol>\n",
    "<li>Sepal.Length 蕚(がく)片の長さ\n",
    "<li>Sepal.Width 蕚(がく)片の幅\n",
    "<li>Petal.Length 花弁の長さ\n",
    "<li>Petal.Width 花弁の幅\n",
    "<li>Species 品種（0: setosa, 1: versicolor or 2: virginica）\n",
    "</ol>"
   ]
  },
  {
   "cell_type": "markdown",
   "metadata": {},
   "source": [
    "<h1 STYLE=\"background: #c2edff;padding: 0.5em;\">あわびのデータ</h1>\n",
    "\n",
    "* https://raw.githubusercontent.com/maskot1977/ipython_notebook/master/toydata/abalone.txt\n",
    "\n",
    "<h4 style=\"border-bottom: solid 1px black;\">　<a href=\"http://archive.ics.uci.edu/ml/machine-learning-databases/abalone/abalone.names\">詳細</a></h4>\n",
    "<ol>\n",
    "<li>Sex\t\t雄か雌か子供か\t\t\tM, F, and I (infant)\n",
    "<li>Length\t\t長さ\tmm\tLongest shell measurement\n",
    "<li>Diameter\t直径\tmm\tperpendicular to length\n",
    "<li>Height\t\t高さ\tmm\twith meat in shell\n",
    "<li>Whole weight\t総重量\tgrams\twhole abalone\n",
    "<li>Shucked weight\t身の重さ\tgrams\tweight of meat\n",
    "<li>Viscera weight\t内臓の重さ\tgrams\tgut weight (after bleeding)\n",
    "<li>Shell weight\t殻の重さ\tgrams\tafter being dried\n",
    "<li>Rings\t\t輪の数（年齢が推定できる）\t\t\t+1.5 gives the age in years\n",
    "</ol>"
   ]
  },
  {
   "cell_type": "markdown",
   "metadata": {
    "collapsed": true
   },
   "source": [
    "<h1 STYLE=\"background: #c2edff;padding: 0.5em;\">ピマ・インディアンの糖尿病診断</h1>\n",
    "\n",
    "* https://raw.githubusercontent.com/maskot1977/ipython_notebook/master/toydata/pima-indians-diabetes.txt\n",
    "\n",
    "<h4 style=\"border-bottom: solid 1px black;\">　<a href=\"http://archive.ics.uci.edu/ml/machine-learning-databases/pima-indians-diabetes/\">詳細</a></h4>\n",
    "\n",
    "National Institute of Diabetes and Digestive and Kidney Diseases が公表している、糖尿病の人と糖尿病ではない人の測定データ。\n",
    "\n",
    "<ol>\n",
    "<li>NumTimePreg: Number of times pregnant\n",
    "<li>OralGluTol: Plasma glucose concentration a 2 hours in an oral glucose tolerance test \n",
    "<li>BloodPres: Diastolic blood pressure (mm Hg)\n",
    "<li>SkinThick: Triceps skin fold thickness (mm)\n",
    "<li>SerumInsulin: 2-Hour serum insulin (mu U/ml)\n",
    "<li>BMI: Body mass index (weight in kg/(height in m)^2)\n",
    "<li>PedigreeFunc: Diabetes pedigree function\n",
    "<li>Age: Age (years)\n",
    "<li>Class: Class variable (0 for negative, 1 for positive)\n",
    "</ol>"
   ]
  },
  {
   "cell_type": "markdown",
   "metadata": {},
   "source": [
    "<h1 STYLE=\"background: #c2edff;padding: 0.5em;\">パーキンソン病診断データ</h1>\n",
    "\n",
    "* https://raw.githubusercontent.com/maskot1977/ipython_notebook/master/toydata/parkinsons.txt\n",
    "\n",
    "<h4 style=\"border-bottom: solid 1px black;\">　<a href=\"http://archive.ics.uci.edu/ml/machine-learning-databases/parkinsons/parkinsons.names\">詳細</a></h4>\n",
    "\n",
    "<ol>\n",
    "<li>name - ASCII subject name and recording number\n",
    "<li>MDVP:Fo(Hz) - Average vocal fundamental frequency\n",
    "<li>MDVP:Fhi(Hz) - Maximum vocal fundamental frequency\n",
    "<li>MDVP:Flo(Hz) - Minimum vocal fundamental frequency\n",
    "<li>MDVP:Jitter(%),MDVP:Jitter(Abs),MDVP:RAP,MDVP:PPQ,Jitter:DDP - Several measures of variation in fundamental frequency\n",
    "<li>MDVP:Shimmer,MDVP:Shimmer(dB),Shimmer:APQ3,Shimmer:APQ5,MDVP:APQ,Shimmer:DDA - Several measures of variation in amplitude\n",
    "<li>NHR,HNR - Two measures of ratio of noise to tonal components in the voice\n",
    "<li>status - Health status of the subject (one) - Parkinson's, (zero) - healthy\n",
    "<li>RPDE,D2 - Two nonlinear dynamical complexity measures\n",
    "<li>DFA - Signal fractal scaling exponent\n",
    "<li>spread1,spread2,PPE - Three nonlinear measures of fundamental frequency variation \n",
    "</ol>"
   ]
  },
  {
   "cell_type": "markdown",
   "metadata": {},
   "source": [
    "<h1 STYLE=\"background: #c2edff;padding: 0.5em;\">大腸菌タンパク質の細胞内局在</h1>\n",
    "\n",
    "* http://archive.ics.uci.edu/ml/machine-learning-databases/ecoli/ecoli.data\n",
    "\n",
    "<h4 style=\"border-bottom: solid 1px black;\">　<a href=\"http://archive.ics.uci.edu/ml/machine-learning-databases/ecoli/ecoli.names\">詳細</a></h4>\n",
    "\n",
    "<ol>\n",
    "<li>Sequence Name: Accession number for the SWISS-PROT database\n",
    "<li>mcg: McGeoch's method for signal sequence recognition.\n",
    "<li>gvh: von Heijne's method for signal sequence recognition.\n",
    " <li>lip: von Heijne's Signal Peptidase II consensus sequence score.\n",
    "           Binary attribute.\n",
    "<li>chg: Presence of charge on N-terminus of predicted lipoproteins.\n",
    "\t   Binary attribute.\n",
    "<li>aac: score of discriminant analysis of the amino acid content of\n",
    "\t   outer membrane and periplasmic proteins.\n",
    "<li>alm1: score of the ALOM membrane spanning region prediction program.\n",
    "<li>alm2: score of ALOM program after excluding putative cleavable signal\n",
    "\t   regions from the sequence.\n",
    "</ol>\n",
    "\n",
    "<h4 style=\"border-bottom: solid 1px black;\">　細胞内局在</h4>\n",
    "<ul>\n",
    "<li>cp  (cytoplasm)                                    143\n",
    "<li>im  (inner membrane without signal sequence)        77               \n",
    "<li>pp  (perisplasm)                                    52\n",
    "<li>imU (inner membrane, uncleavable signal sequence)   35\n",
    "<li>om  (outer membrane)                                20\n",
    "<li>omL (outer membrane lipoprotein)                     5\n",
    "<li>imL (inner membrane lipoprotein)                     2\n",
    "<li>imS (inner membrane, cleavable signal sequence)      2\n",
    "</ul>"
   ]
  },
  {
   "cell_type": "markdown",
   "metadata": {},
   "source": [
    "<h1 STYLE=\"background: #c2edff;padding: 0.5em;\">酵母タンパク質の細胞内局在</h1>\n",
    "\n",
    "* http://archive.ics.uci.edu/ml/machine-learning-databases/yeast/yeast.data\n",
    "\n",
    "\n",
    "<h4 style=\"border-bottom: solid 1px black;\">　<a href=\"http://archive.ics.uci.edu/ml/machine-learning-databases/yeast/yeast.names\">詳細</a></h4>\n",
    "\n",
    "\n",
    "<ol>\n",
    "<li>Sequence Name: Accession number for the SWISS-PROT database\n",
    "<li>mcg: McGeoch's method for signal sequence recognition.\n",
    "<li>gvh: von Heijne's method for signal sequence recognition.\n",
    "<li>alm: Score of the ALOM membrane spanning region prediction program.\n",
    "<li>mit: Score of discriminant analysis of the amino acid content of\n",
    "\t   the N-terminal region (20 residues long) of mitochondrial and \n",
    "           non-mitochondrial proteins.\n",
    "<li>erl: Presence of \"HDEL\" substring (thought to act as a signal for\n",
    "\t   retention in the endoplasmic reticulum lumen). Binary attribute.\n",
    "<li>pox: Peroxisomal targeting signal in the C-terminus.\n",
    "<li>vac: Score of discriminant analysis of the amino acid content of\n",
    "           vacuolar and extracellular proteins.\n",
    "<li>nuc: Score of discriminant analysis of nuclear localization signals\n",
    "\t   of nuclear and non-nuclear proteins.\n",
    "</ol>\n",
    "\n",
    "<h4 style=\"border-bottom: solid 1px black;\">　細胞内局在</h4>\n",
    "\n",
    "<ul>\n",
    "<li>CYT (cytosolic or cytoskeletal)                    463\n",
    "<li>NUC (nuclear)                                      429\n",
    "<li>MIT (mitochondrial)                                244\n",
    "<li>ME3 (membrane protein, no N-terminal signal)       163\n",
    "<li>ME2 (membrane protein, uncleaved signal)            51\n",
    "<li>ME1 (membrane protein, cleaved signal)              44\n",
    "<li>EXC (extracellular)                                 37\n",
    "<li>VAC (vacuolar)                                      30\n",
    "<li>POX (peroxisomal)                                   20\n",
    "<li>ERL (endoplasmic reticulum lumen)                    5\n",
    "</ul>"
   ]
  }
 ],
 "metadata": {
  "kernelspec": {
   "display_name": "Python 3",
   "language": "python",
   "name": "python3"
  },
  "language_info": {
   "codemirror_mode": {
    "name": "ipython",
    "version": 3
   },
   "file_extension": ".py",
   "mimetype": "text/x-python",
   "name": "python",
   "nbconvert_exporter": "python",
   "pygments_lexer": "ipython3",
   "version": "3.4.5"
  }
 },
 "nbformat": 4,
 "nbformat_minor": 2
}
