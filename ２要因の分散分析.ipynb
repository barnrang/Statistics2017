{
 "cells": [
  {
   "cell_type": "code",
   "execution_count": 28,
   "metadata": {
    "collapsed": true
   },
   "outputs": [],
   "source": [
    "# 以下の４つをそれぞれ「群」と呼びます。\n",
    "a1b1 = [65, 85, 75, 85, 75, 80, 90, 75, 85, 65, 75, 85, 80, 85, 90] # クリスピーで辛口\n",
    "a1b2 = [65, 70, 80, 75, 70, 60, 65, 70, 85, 60, 65, 75, 70, 80, 75] # クリスピーで普通味\n",
    "a2b1 = [70, 65, 85, 80, 75, 65, 75, 60, 85, 65, 75, 70, 65, 80, 75] # 普通の衣で辛口\n",
    "a2b2 = [70, 70, 85, 80, 65, 75, 65, 85, 80, 60, 70, 75, 70, 80, 85] # 普通の衣で普通味"
   ]
  },
  {
   "cell_type": "code",
   "execution_count": 59,
   "metadata": {
    "collapsed": true
   },
   "outputs": [],
   "source": [
    "import numpy as np\n",
    "#２要因２水準の分散分析で要因A、要因B、交互作用のF値を計算する関数\n",
    "def stats_f_twoway(a1b1, a1b2, a2b1, a2b2):\n",
    "    ave11 = np.average(a1b1) # a1b1群の平均\n",
    "    ave12 = np.average(a1b2) # a1b2群の平均\n",
    "    ave21 = np.average(a2b1) # a2b1群の平均\n",
    "    ave22 = np.average(a2b2) # a2b2群の平均\n",
    "    \n",
    "    avea1 = np.average(a1b1 + a1b2) # 水準a1の平均\n",
    "    avea2 = np.average(a2b1 + a2b2) # 水準a2の平均\n",
    "    aveb1 = np.average(a1b1 + a2b1) # 水準b1の平均\n",
    "    aveb2 = np.average(a1b2 + a2b2) # 水準b2の平均\n",
    "    \n",
    "    ave = np.average(a1b1 + a1b2 + a2b1 + a2b2) # 全体の平均\n",
    "    \n",
    "    #要因Aによる残差（偏差平方和）\n",
    "    zure1 = np.power((avea1 - ave), 2) * len(a1b1 + a1b2) + \\\n",
    "            np.power((avea2 - ave), 2) * len(a2b1 + a2b2)\n",
    "        \n",
    "    #要因Bによる残差（偏差平方和）\n",
    "    zure2 = np.power((aveb1 - ave), 2) * len(a1b1 + a2b1) + \\\n",
    "            np.power((aveb2 - ave), 2) * len(a1b2 + a2b2)\n",
    "    \n",
    "    # 各群の平均の残差（偏差平方和）\n",
    "    zure3 = np.power((ave11 - ave), 2) * len(a1b1) + \\\n",
    "            np.power((ave12 - ave), 2) * len(a1b2) + \\\n",
    "            np.power((ave21 - ave), 2) * len(a2b1) + \\\n",
    "            np.power((ave22 - ave), 2) * len(a2b2)\n",
    "    \n",
    "    # 交互作用による残差（偏差平方和）\n",
    "    zure4 = zure3 - zure1 - zure2\n",
    "    \n",
    "    # 残りの残差（偏差平方和）\n",
    "    zure5 = np.var(a1b1) * len(a1b1) + \\\n",
    "            np.var(a1b2) * len(a1b2) + \\\n",
    "            np.var(a2b1) * len(a2b1) + \\\n",
    "            np.var(a2b2) * len(a2b2)\n",
    "    \n",
    "    freedoma = 1 # 要因Aの自由度\n",
    "    freedomb = 1 # 要因Bの自由度 \n",
    "    freedomx = freedoma * freedomb # 交互作用の自由度\n",
    "    freedom = len(a1b1 + a1b2 + a2b1 + a2b2) - 1 # 全体の自由度\n",
    "    freedomz = freedom - freedoma - freedomb - freedomx # 残差の自由度\n",
    "    \n",
    "    mean_square_a = zure1 / freedoma # 要因Aの平均平方\n",
    "    mean_square_b = zure2 / freedomb # 要因Bの平均平方\n",
    "    mean_square_x = zure4 / freedomx # 交互作用の平均平方\n",
    "    mean_square_z = zure5 / freedomz # 残差の平均平方\n",
    "    \n",
    "    f_a = mean_square_a / mean_square_z # 要因AのF値\n",
    "    f_b = mean_square_b / mean_square_z # 要因BのF値\n",
    "    f_x = mean_square_x / mean_square_z # 交互作用のF値\n",
    "    \n",
    "    return f_a, f_b, f_x"
   ]
  },
  {
   "cell_type": "code",
   "execution_count": 79,
   "metadata": {
    "collapsed": false
   },
   "outputs": [],
   "source": [
    "import numpy as np\n",
    "# F分布に従うランダム分布を作り、それに基づいて棄却域の境目を返す\n",
    "# dfnum : 群間の自由度\n",
    "# dfden : 群内の自由度\n",
    "def check_f_dist(dfnum, dfden, threshold = 0.05, sample_size=1000000):\n",
    "    f_dist = np.random.f(dfnum, dfden, sample_size)\n",
    "    return sorted(f_dist)[int(-1 * sample_size * threshold)]"
   ]
  },
  {
   "cell_type": "code",
   "execution_count": 76,
   "metadata": {
    "collapsed": false
   },
   "outputs": [],
   "source": [
    "f_a, f_b, f_x = stats_f_twoway(a1b1, a1b2, a2b1, a2b2)"
   ]
  },
  {
   "cell_type": "code",
   "execution_count": 77,
   "metadata": {
    "collapsed": false
   },
   "outputs": [
    {
     "data": {
      "text/plain": [
       "(0.83778437190899657, 3.0534124629080117, 6.6538081107814184)"
      ]
     },
     "execution_count": 77,
     "metadata": {},
     "output_type": "execute_result"
    }
   ],
   "source": [
    "f_a, f_b, f_x"
   ]
  },
  {
   "cell_type": "code",
   "execution_count": 84,
   "metadata": {
    "collapsed": false
   },
   "outputs": [
    {
     "data": {
      "text/plain": [
       "3.4823227168177588"
      ]
     },
     "execution_count": 84,
     "metadata": {},
     "output_type": "execute_result"
    }
   ],
   "source": [
    "check_f_dist(4, 10)"
   ]
  },
  {
   "cell_type": "code",
   "execution_count": null,
   "metadata": {
    "collapsed": true
   },
   "outputs": [],
   "source": []
  }
 ],
 "metadata": {
  "kernelspec": {
   "display_name": "Python 3",
   "language": "python",
   "name": "python3"
  },
  "language_info": {
   "codemirror_mode": {
    "name": "ipython",
    "version": 3
   },
   "file_extension": ".py",
   "mimetype": "text/x-python",
   "name": "python",
   "nbconvert_exporter": "python",
   "pygments_lexer": "ipython3",
   "version": "3.4.5"
  }
 },
 "nbformat": 4,
 "nbformat_minor": 2
}
